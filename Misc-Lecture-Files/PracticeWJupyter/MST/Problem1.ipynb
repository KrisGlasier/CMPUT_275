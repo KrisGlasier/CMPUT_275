{
 "cells": [
  {
   "cell_type": "markdown",
   "metadata": {
    "deletable": true,
    "editable": true
   },
   "source": [
    "<div class=\"alert alert-info\">\n",
    "Before you turn this problem in, make sure everything runs as expected. First, **restart the kernel** (in the menubar, select Kernel$\\rightarrow$Restart) and then **run all cells** (in the menubar, select Cell$\\rightarrow$Run All).\n",
    "\n",
    "Make sure you fill in any place that says `YOUR CODE HERE` or `YOUR ANSWER HERE`, as well as your name and student id below.\n",
    "\n",
    "Make sure you execute **all** executable cells. Remember that you can use `SHIFT+ENTER` to execute a cell. It will install a testing framework used by the notebook and executing this is necessary to make sure that the notebook functions properly.\n",
    "\n",
    "Before submitting do not forget to **save** your work (`CTRL+S`, or `File/Save` in the file menu).\n",
    "</div>"
   ]
  },
  {
   "cell_type": "code",
   "execution_count": 1,
   "metadata": {
    "collapsed": false,
    "deletable": true,
    "editable": true
   },
   "outputs": [],
   "source": [
    "NAME = \"Kristopher Quaife-Glasier\"\n",
    "STUDENT_ID = \"1516240\""
   ]
  },
  {
   "cell_type": "markdown",
   "metadata": {},
   "source": [
    "If you are running the notebook on your own computer, you should install nbgrader and nose manually from the command line. The next line assumes that you are using the VM we provided: 'cmput274' is the password passed to `sudo`."
   ]
  },
  {
   "cell_type": "code",
   "execution_count": 2,
   "metadata": {
    "collapsed": false
   },
   "outputs": [],
   "source": [
    "# %%bash\n",
    "# echo 'cmput274' | sudo -HS pip3 install nbgrader\n",
    "# echo 'cmput274' | sudo -HS pip3 install nose"
   ]
  },
  {
   "cell_type": "markdown",
   "metadata": {
    "deletable": true,
    "editable": true
   },
   "source": [
    "---"
   ]
  },
  {
   "cell_type": "markdown",
   "metadata": {
    "deletable": false,
    "editable": false,
    "nbgrader": {
     "checksum": "bbc357c77ecab324815ddaa2ea59c0a7",
     "grade": false,
     "grade_id": "Title",
     "locked": true,
     "schema_version": 1,
     "solution": false
    }
   },
   "source": [
    "# Kruskal's vs. Prim's algorithm"
   ]
  },
  {
   "cell_type": "markdown",
   "metadata": {
    "deletable": false,
    "editable": false,
    "nbgrader": {
     "checksum": "cb28fe5c1bd22d5cda461031243ef95b",
     "grade": false,
     "grade_id": "msthand",
     "locked": true,
     "schema_version": 1,
     "solution": false
    }
   },
   "source": [
    "## Part 1\n",
    "Find a minimum spanning tree (MST) in the graph shown here by hand using Kruskal's algorithm.\n",
    "<img src=\"graph.svg\">\n",
    "<div class=\"alert alert-success\">\n",
    "In the next cell, assign to the variable `mst` a **list** that contains the edges of a MST of this graph in the order that they are added. Use the `edge` function to specify edges.</div>"
   ]
  },
  {
   "cell_type": "code",
   "execution_count": 3,
   "metadata": {
    "collapsed": false,
    "deletable": false,
    "editable": true,
    "nbgrader": {
     "checksum": "e1221d693ce56a6ab003f6491e39f47b",
     "grade": false,
     "grade_id": "msthand_answer",
     "locked": false,
     "schema_version": 1,
     "solution": true
    }
   },
   "outputs": [],
   "source": [
    "def edge(x,y):\n",
    "    return frozenset({x,y})\n",
    "mst = [edge(1,4), edge(1,0), edge(0,2), edge(2,5), edge(5,6), edge(6,8), edge(8,9), edge(9,3), edge(3,7)]\n"
   ]
  },
  {
   "cell_type": "code",
   "execution_count": 4,
   "metadata": {
    "collapsed": false,
    "deletable": false,
    "editable": false,
    "nbgrader": {
     "checksum": "be4e34c4d77a933895ef472b1fe947d2",
     "grade": true,
     "grade_id": "msthand_test",
     "locked": true,
     "points": 3,
     "schema_version": 1,
     "solution": false
    }
   },
   "outputs": [
    {
     "name": "stdout",
     "output_type": "stream",
     "text": [
      "Passed public test\n"
     ]
    }
   ],
   "source": [
    "%reload_ext autoreload\n",
    "%aimport test\n",
    "%aimport kruskal\n",
    "from nose.tools import assert_equal\n",
    "\n",
    "# not cyclic\n",
    "assert not kruskal.is_cyclic(mst)\n",
    "# covers all vertices\n",
    "assert frozenset.union(*mst)==frozenset(range(10))\n",
    "\n",
    "# check total weight:\n",
    "weights = \\\n",
    "    {edge(0,1):2,edge(0,2):3,edge(1,2):3,edge(1,3):3,edge(1,4):1,edge(2,5):2,\n",
    "     edge(3,4):4,edge(4,5):4,edge(3,7):2,edge(3,9):1,edge(4,6):3,edge(5,6):1,\n",
    "     edge(5,8):5,edge(6,9):4,edge(6,8):3,edge(7,9):2,edge(8,9):2}    \n",
    "total = sum([weights[e] for e in mst])\n",
    "assert total==17\n",
    "\n",
    "print(\"Passed public test\")"
   ]
  },
  {
   "cell_type": "markdown",
   "metadata": {
    "deletable": false,
    "editable": false,
    "nbgrader": {
     "checksum": "7624a36dc31b0110685b574a0d10ac67",
     "grade": false,
     "grade_id": "advice",
     "locked": true,
     "schema_version": 1,
     "solution": false
    }
   },
   "source": [
    "<div class=\"alert alert-info\">\n",
    "Your answer is correct if no error is raised when you execute the next cell and if the cell prints `Passed public test`. On an exam some tests may be hidden from you, which will also be taken into account whem marking your solution.</div>"
   ]
  },
  {
   "cell_type": "markdown",
   "metadata": {
    "collapsed": false,
    "deletable": false,
    "editable": false,
    "nbgrader": {
     "checksum": "2d8f398acff1913bfd852efc6582847d",
     "grade": false,
     "grade_id": "prim",
     "locked": true,
     "schema_version": 1,
     "solution": false
    }
   },
   "source": [
    "## Part 2\n",
    "The following is Prim's algorithm for computing a minimum spanning tree of a connected graph $G = (V,E)$ with edge weights $w_e \\geq 0, e \\in E$.\n",
    "\n",
    "\n",
    "1. Let $v$ be any arbitrarily chosen vertex.\n",
    "2. Let $S := \\{v\\}$ and $T := \\{ \\}$.\n",
    "3. **while** $S \\neq V$\n",
    "    1. Among the edges with exactly one endpoint $S$, pick one with minimum weight (break ties arbitrarily). Call this edge $(u,w)$ where $w$ is the endpoint not in $S$.\n",
    "    2. Update $S := S \\cup \\{w\\}$ and $T = T \\cup \\{(u,w)\\}$.\n",
    "4. **return** $T$\n",
    "\n",
    "Address these problems."
   ]
  },
  {
   "cell_type": "markdown",
   "metadata": {
    "deletable": false,
    "editable": false,
    "nbgrader": {
     "checksum": "c1c1b05fa04fb47f16e74b5520314af1",
     "grade": false,
     "grade_id": "bar_describe",
     "locked": true,
     "schema_version": 1,
     "solution": false
    }
   },
   "source": [
    "### Part 2.1\n",
    "Trace the execution of this algorithm on the same graph as in problem 1 starting with the leftmost vertex. For convenience the graph is repeated:\n",
    "<img src=\"graph.svg\">\n",
    "<div class=\"alert alert-success\">\n",
    "In the next cell, assign to the variable `prim_trace` a set that contains the edges of a MST of this graph. Use the `edge` function to specify edges.</div>"
   ]
  },
  {
   "cell_type": "code",
   "execution_count": 5,
   "metadata": {
    "collapsed": true,
    "deletable": false,
    "editable": true,
    "nbgrader": {
     "checksum": "d64c32d77f8c77ddbd4777bfd58f9ecf",
     "grade": false,
     "grade_id": "prim_answer",
     "locked": false,
     "schema_version": 1,
     "solution": true
    }
   },
   "outputs": [],
   "source": [
    "# This is how the solution starts..\n",
    "prim_trace = [edge(0,1),edge(1,4),edge(4,6),edge(6,5),edge(5,2),edge(6,8),edge(8,9),edge(9,3),edge(3,7)]\n"
   ]
  },
  {
   "cell_type": "code",
   "execution_count": 6,
   "metadata": {
    "collapsed": false,
    "deletable": false,
    "editable": false,
    "nbgrader": {
     "checksum": "b29956ea5f21d7e7d6a400a1073fb905",
     "grade": true,
     "grade_id": "prim_test",
     "locked": true,
     "points": 2,
     "schema_version": 1,
     "solution": false
    }
   },
   "outputs": [
    {
     "name": "stdout",
     "output_type": "stream",
     "text": [
      "Passed public test\n"
     ]
    }
   ],
   "source": [
    "# not cyclic\n",
    "assert not kruskal.is_cyclic(prim_trace)\n",
    "# covers all vertices\n",
    "assert frozenset.union(*prim_trace)==frozenset(range(10))\n",
    "# check total weight\n",
    "total = sum([weights[e] for e in prim_trace])\n",
    "assert total==17\n",
    "print(\"Passed public test\")"
   ]
  },
  {
   "cell_type": "markdown",
   "metadata": {
    "deletable": true,
    "editable": true
   },
   "source": [
    "## Food for thought\n",
    "1. Think of how to implement Prim's algorithm as efficiently as possible. $O(|E| \\log |E|)$ is possible using heaps.\n",
    "2. At the heart of the proof of the correctness of Kruskal's algorithm was the fact that a spanning tree $T$ is a minimum spanning tree if and only if for every edge $e$ not in $T$\n",
    "and for every edge $f$ lying on the unique cycle in $T \\cup \\{e\\}$, $w(e) \\geq w(f)$ holds.\n",
    "How can you use this fact to demonstrate that Prim's algorithm finds a minimum spanning tree? If it helps make your argument simpler,\n",
    "you can assume that no two edges have the same weight (though Prim's algorithm does work in general)."
   ]
  },
  {
   "cell_type": "markdown",
   "metadata": {
    "deletable": true,
    "editable": true
   },
   "source": [
    "# Finishing up\n",
    "\n",
    "<br>\n",
    "\n",
    "<div class=\"alert alert-danger\">\n",
    "\n",
    "When you are done, save the notebook (`CTRL+S`) and the run the whole notebook from the beginning. You can do this by selecting `Kernel/Restart & Run All` from the menu on the top of the screen. This should print `\"All tests passed\"` for full marks.<br>\n",
    "\n",
    "Finally, when you are done with all the problems, you can run <br>\n",
    "\n",
    "`nbgrader validate *.ipynb`<br> \n",
    "\n",
    "from the command line while in the directory where this notebook is. This runs all the tests in the notebook again and it is good to run this to double check whether you actually saved your solutions and that you are in the correct directory.<br>\n",
    "If everything is as expected, run <br>\n",
    "\n",
    "`./package.sh` <br>\n",
    "\n",
    "from the command line in the same directory. This creates the file `practice-final.tar.gz`, which you will need to submit through eclass as usual. \n",
    "</div>"
   ]
  },
  {
   "cell_type": "code",
   "execution_count": 7,
   "metadata": {
    "collapsed": false,
    "deletable": true,
    "editable": true
   },
   "outputs": [
    {
     "name": "stdout",
     "output_type": "stream",
     "text": [
      "All tests passed\n"
     ]
    }
   ],
   "source": [
    "print(\"All tests passed\")"
   ]
  },
  {
   "cell_type": "markdown",
   "metadata": {
    "deletable": true,
    "editable": true
   },
   "source": [
    "---"
   ]
  },
  {
   "cell_type": "markdown",
   "metadata": {
    "deletable": true,
    "editable": true
   },
   "source": [
    "Scratch space: Add as many cells as you wish here to experiment. You can also add extra cells anywhere in the notebook, even when you are solving some problem."
   ]
  },
  {
   "cell_type": "code",
   "execution_count": null,
   "metadata": {
    "collapsed": true,
    "deletable": true,
    "editable": true
   },
   "outputs": [],
   "source": []
  }
 ],
 "metadata": {
  "kernelspec": {
   "display_name": "Python 3",
   "language": "python",
   "name": "python3"
  },
  "language_info": {
   "codemirror_mode": {
    "name": "ipython",
    "version": 3
   },
   "file_extension": ".py",
   "mimetype": "text/x-python",
   "name": "python",
   "nbconvert_exporter": "python",
   "pygments_lexer": "ipython3",
   "version": "3.6.0"
  }
 },
 "nbformat": 4,
 "nbformat_minor": 2
}
