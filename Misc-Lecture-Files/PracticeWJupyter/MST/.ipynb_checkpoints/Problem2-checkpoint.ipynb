{
 "cells": [
  {
   "cell_type": "markdown",
   "metadata": {
    "deletable": true,
    "editable": true
   },
   "source": [
    "<div class=\"alert alert-info\">\n",
    "Before you turn this problem in, make sure everything runs as expected. First, **restart the kernel** (in the menubar, select Kernel$\\rightarrow$Restart) and then **run all cells** (in the menubar, select Cell$\\rightarrow$Run All).\n",
    "\n",
    "Make sure you fill in any place that says `YOUR CODE HERE` or `YOUR ANSWER HERE`, as well as your name and student id below.\n",
    "\n",
    "Make sure you execute **all** executable cells. Remember that you can use `SHIFT+ENTER` to execute a cell. It will install a testing framework used by the notebook and executing this is necessary to make sure that the notebook functions properly.\n",
    "\n",
    "Before submitting do not forget to **save** your work (`CTRL+S`, or `File/Save` in the file menu).\n",
    "</div>"
   ]
  },
  {
   "cell_type": "code",
   "execution_count": null,
   "metadata": {
    "collapsed": false,
    "deletable": true,
    "editable": true
   },
   "outputs": [],
   "source": [
    "NAME = \"Kristopher Quaife-Glasier\"\n",
    "STUDENT_ID = \"1516240\""
   ]
  },
  {
   "cell_type": "markdown",
   "metadata": {},
   "source": [
    "If you are running the notebook on your own computer, you should install nbgrader and nose manually from the command line. The next line assumes that you are using the VM we provided: 'cmput274' is the password passed to `sudo`."
   ]
  },
  {
   "cell_type": "code",
   "execution_count": null,
   "metadata": {
    "collapsed": true
   },
   "outputs": [],
   "source": [
    "# %%bash\n",
    "# echo 'cmput274' | sudo -HS pip3 install nbgrader\n",
    "# echo 'cmput274' | sudo -HS pip3 install nose"
   ]
  },
  {
   "cell_type": "markdown",
   "metadata": {
    "deletable": true,
    "editable": true
   },
   "source": [
    "---"
   ]
  },
  {
   "cell_type": "markdown",
   "metadata": {
    "deletable": false,
    "editable": false,
    "nbgrader": {
     "checksum": "e4a564e0e2fc2b0c255cd181be4c1462",
     "grade": false,
     "grade_id": "Title",
     "locked": true,
     "schema_version": 1,
     "solution": false
    }
   },
   "source": [
    "# Union-Find Worksheet"
   ]
  },
  {
   "cell_type": "code",
   "execution_count": null,
   "metadata": {
    "collapsed": true,
    "deletable": false,
    "editable": false,
    "nbgrader": {
     "checksum": "8eb706f090d1e5d79db9a813b3f1fdd4",
     "grade": false,
     "grade_id": "exec",
     "locked": true,
     "schema_version": 1,
     "solution": false
    }
   },
   "outputs": [],
   "source": [
    "# Execute this cell to preload some modules needed later for testing\n",
    "from nose.tools import assert_equal\n",
    "import test"
   ]
  },
  {
   "cell_type": "markdown",
   "metadata": {
    "deletable": false,
    "editable": false,
    "nbgrader": {
     "checksum": "154da79ec84cf40a9c5ff4c5f1895636",
     "grade": false,
     "grade_id": "msthand",
     "locked": true,
     "schema_version": 1,
     "solution": false
    }
   },
   "source": [
    "## Part 1\n",
    "Write the output of each of the following statements in the cell just below the statement."
   ]
  },
  {
   "cell_type": "markdown",
   "metadata": {
    "deletable": false,
    "editable": false,
    "nbgrader": {
     "checksum": "ac8fee5587407ce9588e65bb6c10d601",
     "grade": false,
     "grade_id": "uf1",
     "locked": true,
     "schema_version": 1,
     "solution": false
    }
   },
   "source": [
    "### Part 1.1\n",
    "```python\n",
    "uf = UnionFind({1,2,3,4,5})\n",
    "uf.union(1, 2) # Returns True if merge happened```"
   ]
  },
  {
   "cell_type": "code",
   "execution_count": null,
   "metadata": {
    "collapsed": false,
    "deletable": false,
    "editable": true,
    "nbgrader": {
     "checksum": "ca01ceac49452eeedfcf991981508f62",
     "grade": false,
     "grade_id": "uf1_a",
     "locked": false,
     "schema_version": 1,
     "solution": true
    }
   },
   "outputs": [],
   "source": [
    "# YOUR CODE HERE\n",
    "raise NotImplementedError()"
   ]
  },
  {
   "cell_type": "code",
   "execution_count": null,
   "metadata": {
    "collapsed": false,
    "deletable": false,
    "editable": false,
    "nbgrader": {
     "checksum": "6d1004be7646ba903241e2f51c91a991",
     "grade": true,
     "grade_id": "uf1_t",
     "locked": true,
     "points": 2,
     "schema_version": 1,
     "solution": false
    }
   },
   "outputs": [],
   "source": [
    "assert test.hash(\"uf1\"+str(_))=='ee9ff9de6ca0f91154a1fe2d15b50605'\n",
    "print(\"Passed public test\")"
   ]
  },
  {
   "cell_type": "markdown",
   "metadata": {
    "deletable": false,
    "editable": false,
    "nbgrader": {
     "checksum": "fb8f98f46933fed30da2775211de5e99",
     "grade": false,
     "grade_id": "uf2",
     "locked": true,
     "schema_version": 1,
     "solution": false
    }
   },
   "source": [
    "### Part 1.2\n",
    "```python\n",
    "uf.union(2, 3)```"
   ]
  },
  {
   "cell_type": "code",
   "execution_count": null,
   "metadata": {
    "collapsed": false,
    "deletable": false,
    "editable": true,
    "nbgrader": {
     "checksum": "7ed07d4e16400693e0c779e195e4ee8c",
     "grade": false,
     "grade_id": "uf2_a",
     "locked": false,
     "schema_version": 1,
     "solution": true
    }
   },
   "outputs": [],
   "source": [
    "# YOUR CODE HERE\n",
    "raise NotImplementedError()"
   ]
  },
  {
   "cell_type": "code",
   "execution_count": null,
   "metadata": {
    "collapsed": false,
    "deletable": false,
    "editable": false,
    "nbgrader": {
     "checksum": "591d391d32fbe83c23e9bf4a145acd8a",
     "grade": true,
     "grade_id": "uf2_t",
     "locked": true,
     "points": 2,
     "schema_version": 1,
     "solution": false
    }
   },
   "outputs": [],
   "source": [
    "assert test.hash(\"uf2\"+str(_))=='47b32cf3d68128d55a07800e764a612a'\n",
    "print(\"Passed public test\")"
   ]
  },
  {
   "cell_type": "markdown",
   "metadata": {
    "deletable": false,
    "editable": false,
    "nbgrader": {
     "checksum": "46b9e63a28d84ac5674621edd58a664d",
     "grade": false,
     "grade_id": "uf13",
     "locked": true,
     "schema_version": 1,
     "solution": false
    }
   },
   "source": [
    "### Part 1.3\n",
    "```python\n",
    "uf.find(1) == uf.find(2)```"
   ]
  },
  {
   "cell_type": "code",
   "execution_count": null,
   "metadata": {
    "collapsed": false,
    "deletable": false,
    "editable": true,
    "nbgrader": {
     "checksum": "b475907702009448263d51e02c4a834a",
     "grade": false,
     "grade_id": "uf3_a",
     "locked": false,
     "schema_version": 1,
     "solution": true
    }
   },
   "outputs": [],
   "source": [
    "# YOUR CODE HERE\n",
    "raise NotImplementedError()"
   ]
  },
  {
   "cell_type": "code",
   "execution_count": null,
   "metadata": {
    "collapsed": false,
    "deletable": false,
    "editable": false,
    "nbgrader": {
     "checksum": "f225b440f53e6d14a3fdebcf987c04f5",
     "grade": true,
     "grade_id": "uf3_t",
     "locked": true,
     "points": 2,
     "schema_version": 1,
     "solution": false
    }
   },
   "outputs": [],
   "source": [
    "assert test.hash(\"uf3\"+str(_))=='b440e6ea4fc545008dc6dedb8de8f937'\n",
    "print(\"Passed public test\")"
   ]
  },
  {
   "cell_type": "markdown",
   "metadata": {
    "deletable": false,
    "editable": false,
    "nbgrader": {
     "checksum": "8df7914427f95d98f4601e084d75ad6b",
     "grade": false,
     "grade_id": "uf4",
     "locked": true,
     "schema_version": 1,
     "solution": false
    }
   },
   "source": [
    "### Part 1.4\n",
    "```python\n",
    "uf.find(1) == uf.find(4)```"
   ]
  },
  {
   "cell_type": "code",
   "execution_count": null,
   "metadata": {
    "collapsed": false,
    "deletable": false,
    "editable": true,
    "nbgrader": {
     "checksum": "da5047fed796788b29b5b9fe4ec9f9f0",
     "grade": false,
     "grade_id": "uf4_a",
     "locked": false,
     "schema_version": 1,
     "solution": true
    }
   },
   "outputs": [],
   "source": [
    "# YOUR CODE HERE\n",
    "raise NotImplementedError()"
   ]
  },
  {
   "cell_type": "code",
   "execution_count": null,
   "metadata": {
    "collapsed": false,
    "deletable": false,
    "editable": false,
    "nbgrader": {
     "checksum": "02a3b0fe40f6f5f516b7be8d0850462f",
     "grade": true,
     "grade_id": "uf4_t",
     "locked": true,
     "points": 2,
     "schema_version": 1,
     "solution": false
    }
   },
   "outputs": [],
   "source": [
    "assert test.hash(\"uf4\"+str(_))=='b10a635c942be9aa023ff9f95f12a36d'\n",
    "print(\"Passed public test\")"
   ]
  },
  {
   "cell_type": "markdown",
   "metadata": {
    "deletable": false,
    "editable": false,
    "nbgrader": {
     "checksum": "6c785aeda6bcd5d6cc32d7f756806f11",
     "grade": false,
     "grade_id": "uf5",
     "locked": true,
     "schema_version": 1,
     "solution": false
    }
   },
   "source": [
    "### Part 1.5\n",
    "```python\n",
    "uf.union(1, 3)```"
   ]
  },
  {
   "cell_type": "code",
   "execution_count": null,
   "metadata": {
    "collapsed": false,
    "deletable": false,
    "editable": true,
    "nbgrader": {
     "checksum": "d789ec851a0e5011398a9c334a347fbd",
     "grade": false,
     "grade_id": "uf5_a",
     "locked": false,
     "schema_version": 1,
     "solution": true
    }
   },
   "outputs": [],
   "source": [
    "# YOUR CODE HERE\n",
    "raise NotImplementedError()"
   ]
  },
  {
   "cell_type": "code",
   "execution_count": null,
   "metadata": {
    "collapsed": false,
    "deletable": false,
    "editable": false,
    "nbgrader": {
     "checksum": "9a79d0624aa815a3e8f60c4e4647b107",
     "grade": true,
     "grade_id": "uf5_t",
     "locked": true,
     "points": 2,
     "schema_version": 1,
     "solution": false
    }
   },
   "outputs": [],
   "source": [
    "assert test.hash(\"uf5\"+str(_))=='caf9948916a961ec03a4d5e3ca27e75b'\n",
    "print(\"Passed public test\")"
   ]
  },
  {
   "cell_type": "markdown",
   "metadata": {
    "deletable": false,
    "editable": false,
    "nbgrader": {
     "checksum": "40ddf1723d63a788f90e52eb8676e580",
     "grade": false,
     "grade_id": "uf6",
     "locked": true,
     "schema_version": 1,
     "solution": false
    }
   },
   "source": [
    "### Part 1.6\n",
    "```python\n",
    "uf.union(4, 5)```\n"
   ]
  },
  {
   "cell_type": "code",
   "execution_count": null,
   "metadata": {
    "collapsed": false,
    "deletable": false,
    "editable": true,
    "nbgrader": {
     "checksum": "b64e053f3f5af08305473f1d8bb194b9",
     "grade": false,
     "grade_id": "uf6_a",
     "locked": false,
     "schema_version": 1,
     "solution": true
    }
   },
   "outputs": [],
   "source": [
    "# YOUR CODE HERE\n",
    "raise NotImplementedError()"
   ]
  },
  {
   "cell_type": "code",
   "execution_count": null,
   "metadata": {
    "collapsed": false,
    "deletable": false,
    "editable": false,
    "nbgrader": {
     "checksum": "a4318a4604e367896d98e5eafaafb275",
     "grade": true,
     "grade_id": "uf6_t",
     "locked": true,
     "points": 2,
     "schema_version": 1,
     "solution": false
    }
   },
   "outputs": [],
   "source": [
    "assert test.hash(\"uf6\"+str(_))=='e250b2d5c684c8ab3c9647f632bdc3de'\n",
    "print(\"Passed public test\")"
   ]
  },
  {
   "cell_type": "markdown",
   "metadata": {
    "deletable": false,
    "editable": false,
    "nbgrader": {
     "checksum": "8520024157f83781f374ba72cf38afc0",
     "grade": false,
     "grade_id": "uf7",
     "locked": true,
     "schema_version": 1,
     "solution": false
    }
   },
   "source": [
    "### Part 1.7\n",
    "```python\n",
    "uf.union(1, 5)```\n"
   ]
  },
  {
   "cell_type": "code",
   "execution_count": null,
   "metadata": {
    "collapsed": false,
    "deletable": false,
    "editable": true,
    "nbgrader": {
     "checksum": "a48802092b8a87f5d2b68a39457b5c87",
     "grade": false,
     "grade_id": "uf7_a",
     "locked": false,
     "schema_version": 1,
     "solution": true
    }
   },
   "outputs": [],
   "source": [
    "# YOUR CODE HERE\n",
    "raise NotImplementedError()"
   ]
  },
  {
   "cell_type": "code",
   "execution_count": null,
   "metadata": {
    "collapsed": false,
    "deletable": false,
    "editable": false,
    "nbgrader": {
     "checksum": "4bc5e5390ccbd76205f6bc50fe275b7a",
     "grade": true,
     "grade_id": "uf7_t",
     "locked": true,
     "points": 2,
     "schema_version": 1,
     "solution": false
    }
   },
   "outputs": [],
   "source": [
    "assert test.hash(\"uf7\"+str(_))=='1638c80876eeb0b0fbc9bbd8134c408d'\n",
    "print(\"Passed public test\")"
   ]
  },
  {
   "cell_type": "markdown",
   "metadata": {
    "deletable": false,
    "editable": false,
    "nbgrader": {
     "checksum": "c4fc1e85fa97e5a7ca6a9b0dcb64b5c4",
     "grade": false,
     "grade_id": "uf8",
     "locked": true,
     "schema_version": 1,
     "solution": false
    }
   },
   "source": [
    "### Part 1.8\n",
    "```python\n",
    "uf.union(2, 4)```"
   ]
  },
  {
   "cell_type": "code",
   "execution_count": null,
   "metadata": {
    "collapsed": false,
    "deletable": false,
    "editable": true,
    "nbgrader": {
     "checksum": "e08c1c0054fc808d5f563c0821ae7917",
     "grade": false,
     "grade_id": "uf8_a",
     "locked": false,
     "schema_version": 1,
     "solution": true
    }
   },
   "outputs": [],
   "source": [
    "# YOUR CODE HERE\n",
    "raise NotImplementedError()"
   ]
  },
  {
   "cell_type": "code",
   "execution_count": null,
   "metadata": {
    "collapsed": false,
    "deletable": false,
    "editable": false,
    "nbgrader": {
     "checksum": "f5689833044ce3b7cb56155c714ebadb",
     "grade": true,
     "grade_id": "uf8_t",
     "locked": true,
     "points": 2,
     "schema_version": 1,
     "solution": false
    }
   },
   "outputs": [],
   "source": [
    "assert test.hash(\"uf8\"+str(_))=='506efa454f084a3f1bd41ef768003a85'\n",
    "print(\"Passed public test\")"
   ]
  },
  {
   "cell_type": "markdown",
   "metadata": {
    "deletable": false,
    "editable": false,
    "nbgrader": {
     "checksum": "e469fbc75f2a29b906df9e977f38e8d8",
     "grade": false,
     "grade_id": "rank",
     "locked": true,
     "schema_version": 1,
     "solution": false
    }
   },
   "source": [
    "## Part 2.1\n",
    "Assuming that in the case of a tie with the rank in a `uf.union(i, j)` operation, the representative for `i` is attached to the representative for `j`, which item will have the highest rank at the end? Enter your answer in the next cell."
   ]
  },
  {
   "cell_type": "code",
   "execution_count": null,
   "metadata": {
    "collapsed": false,
    "deletable": false,
    "editable": true,
    "nbgrader": {
     "checksum": "8cece62d5e131935e6290b1f30e01429",
     "grade": false,
     "grade_id": "rank_a",
     "locked": false,
     "schema_version": 1,
     "solution": true
    }
   },
   "outputs": [],
   "source": [
    "# YOUR CODE HERE\n",
    "raise NotImplementedError()"
   ]
  },
  {
   "cell_type": "code",
   "execution_count": null,
   "metadata": {
    "collapsed": false,
    "deletable": false,
    "editable": false,
    "nbgrader": {
     "checksum": "7550957098972bba1e3d5c405d81f7d0",
     "grade": true,
     "grade_id": "rank_t",
     "locked": true,
     "points": 2,
     "schema_version": 1,
     "solution": false
    }
   },
   "outputs": [],
   "source": [
    "assert test.hash(\"uf21\"+str(_))=='7bab164e4ed3f9acefdbbf8670ee6525'\n",
    "print(\"Passed public test\")"
   ]
  },
  {
   "cell_type": "markdown",
   "metadata": {
    "deletable": false,
    "editable": false,
    "nbgrader": {
     "checksum": "d1305bb1b71918867fbe59e4781aafed",
     "grade": false,
     "grade_id": "rank_item",
     "locked": true,
     "schema_version": 1,
     "solution": false
    }
   },
   "source": [
    "## Part 2.2\n",
    "What is the rank of this item?"
   ]
  },
  {
   "cell_type": "code",
   "execution_count": null,
   "metadata": {
    "collapsed": false,
    "deletable": false,
    "editable": true,
    "nbgrader": {
     "checksum": "79da3f905523c9a8a9d2a4a0661a70e7",
     "grade": false,
     "grade_id": "rank_item_a",
     "locked": false,
     "schema_version": 1,
     "solution": true
    }
   },
   "outputs": [],
   "source": [
    "# YOUR CODE HERE\n",
    "raise NotImplementedError()"
   ]
  },
  {
   "cell_type": "code",
   "execution_count": null,
   "metadata": {
    "collapsed": false,
    "deletable": false,
    "editable": false,
    "nbgrader": {
     "checksum": "329bcbd02f7fb57259428551222ec84e",
     "grade": true,
     "grade_id": "rank_item_t",
     "locked": true,
     "points": 2,
     "schema_version": 1,
     "solution": false
    }
   },
   "outputs": [],
   "source": [
    "assert test.hash(\"uf22\"+str(_))=='ab8c737d4b8777e17bdb8f3ef30bdd22'\n",
    "print(\"Passed public test\")"
   ]
  },
  {
   "cell_type": "markdown",
   "metadata": {
    "deletable": true,
    "editable": true
   },
   "source": [
    "# Part 3\n",
    "Write the output of each of the following statements in the cell just below the statement, as before."
   ]
  },
  {
   "cell_type": "markdown",
   "metadata": {
    "deletable": false,
    "editable": false,
    "nbgrader": {
     "checksum": "5e5be202c217950579ad5d33986f7943",
     "grade": false,
     "grade_id": "uf31",
     "locked": true,
     "schema_version": 1,
     "solution": false
    }
   },
   "source": [
    "### Part 3.1\n",
    "```python\n",
    "uf = UnionFind({1,2,3,4,5,6,7,8})\n",
    "uf.union(1, 2) # Returns True if merge happened```"
   ]
  },
  {
   "cell_type": "code",
   "execution_count": null,
   "metadata": {
    "collapsed": false,
    "deletable": false,
    "editable": true,
    "nbgrader": {
     "checksum": "9395bb6c9b527255e3bd66da9487b9fa",
     "grade": false,
     "grade_id": "uf31_a",
     "locked": false,
     "schema_version": 1,
     "solution": true
    }
   },
   "outputs": [],
   "source": [
    "# YOUR CODE HERE\n",
    "raise NotImplementedError()"
   ]
  },
  {
   "cell_type": "code",
   "execution_count": null,
   "metadata": {
    "collapsed": false,
    "deletable": false,
    "editable": false,
    "nbgrader": {
     "checksum": "bf523b436f25f479826eba8b43f92075",
     "grade": true,
     "grade_id": "uf31_t",
     "locked": true,
     "points": 2,
     "schema_version": 1,
     "solution": false
    }
   },
   "outputs": [],
   "source": [
    "print(test.hash(\"uf31\"+str(_)))\n",
    "assert test.hash(\"uf31\"+str(_))=='ea568738270cb9f7987cf0b5883f1a56'\n",
    "print(\"Passed public test\")"
   ]
  },
  {
   "cell_type": "markdown",
   "metadata": {
    "deletable": false,
    "editable": false,
    "nbgrader": {
     "checksum": "a63cb7a10327363102854717c305ac67",
     "grade": false,
     "grade_id": "uf32",
     "locked": true,
     "schema_version": 1,
     "solution": false
    }
   },
   "source": [
    "### Part 3.2\n",
    "```python\n",
    "uf.union(3, 4)```"
   ]
  },
  {
   "cell_type": "code",
   "execution_count": null,
   "metadata": {
    "collapsed": false,
    "deletable": false,
    "editable": true,
    "nbgrader": {
     "checksum": "a0397b6c8a80581b3b0847379e0f9dff",
     "grade": false,
     "grade_id": "uf32_answer",
     "locked": false,
     "schema_version": 1,
     "solution": true
    }
   },
   "outputs": [],
   "source": [
    "# YOUR CODE HERE\n",
    "raise NotImplementedError()"
   ]
  },
  {
   "cell_type": "code",
   "execution_count": null,
   "metadata": {
    "collapsed": false,
    "deletable": false,
    "editable": false,
    "nbgrader": {
     "checksum": "28bea3a8cdeef43f436665a31560ceea",
     "grade": true,
     "grade_id": "uf32_test",
     "locked": true,
     "points": 2,
     "schema_version": 1,
     "solution": false
    }
   },
   "outputs": [],
   "source": [
    "print(test.hash(\"uf32\"+str(_)))\n",
    "assert test.hash(\"uf32\"+str(_))=='310a89f8cef44e2ef3c921cf30d5f415'\n",
    "print(\"Passed public test\")"
   ]
  },
  {
   "cell_type": "markdown",
   "metadata": {
    "deletable": false,
    "editable": false,
    "nbgrader": {
     "checksum": "bad556d2b3bbf8c924d1fd4acae76b5f",
     "grade": false,
     "grade_id": "uf33",
     "locked": true,
     "schema_version": 1,
     "solution": false
    }
   },
   "source": [
    "### Part 3.3\n",
    "```python\n",
    "uf.union(5, 6)```"
   ]
  },
  {
   "cell_type": "code",
   "execution_count": null,
   "metadata": {
    "collapsed": false,
    "deletable": false,
    "editable": true,
    "nbgrader": {
     "checksum": "595561e62e52cfb1322be2e34f308d3c",
     "grade": false,
     "grade_id": "uf33_a",
     "locked": false,
     "schema_version": 1,
     "solution": true
    }
   },
   "outputs": [],
   "source": [
    "# YOUR CODE HERE\n",
    "raise NotImplementedError()"
   ]
  },
  {
   "cell_type": "code",
   "execution_count": null,
   "metadata": {
    "collapsed": false,
    "deletable": false,
    "editable": false,
    "nbgrader": {
     "checksum": "fd9e9d061cbbcadf80baf10884a7c94c",
     "grade": true,
     "grade_id": "uf33_t",
     "locked": true,
     "points": 2,
     "schema_version": 1,
     "solution": false
    }
   },
   "outputs": [],
   "source": [
    "print(test.hash(\"uf33\"+str(_)))\n",
    "assert test.hash(\"uf3\"+str(_))=='b440e6ea4fc545008dc6dedb8de8f937'\n",
    "print(\"Passed public test\")"
   ]
  },
  {
   "cell_type": "markdown",
   "metadata": {
    "deletable": false,
    "editable": false,
    "nbgrader": {
     "checksum": "91c1ea720c44eddb25eb39268b6c0f9b",
     "grade": false,
     "grade_id": "uf34",
     "locked": true,
     "schema_version": 1,
     "solution": false
    }
   },
   "source": [
    "### Part 3.4\n",
    "```python\n",
    "uf.union(7, 8)```"
   ]
  },
  {
   "cell_type": "code",
   "execution_count": null,
   "metadata": {
    "collapsed": false,
    "deletable": false,
    "editable": true,
    "nbgrader": {
     "checksum": "1636fa35fbf1cdc6beafb34eaf9e9796",
     "grade": false,
     "grade_id": "uf34_a",
     "locked": false,
     "schema_version": 1,
     "solution": true
    }
   },
   "outputs": [],
   "source": [
    "# YOUR CODE HERE\n",
    "raise NotImplementedError()"
   ]
  },
  {
   "cell_type": "code",
   "execution_count": null,
   "metadata": {
    "collapsed": false,
    "deletable": false,
    "editable": false,
    "nbgrader": {
     "checksum": "3c7857fd51e42bde4113aa6851b223c1",
     "grade": true,
     "grade_id": "uf34_t",
     "locked": true,
     "points": 2,
     "schema_version": 1,
     "solution": false
    }
   },
   "outputs": [],
   "source": [
    "print(test.hash(\"uf34\"+str(_)))\n",
    "assert test.hash(\"uf34\"+str(_))=='f54da9ddba9139226622ec1df85dca91'\n",
    "print(\"Passed public test\")"
   ]
  },
  {
   "cell_type": "markdown",
   "metadata": {
    "deletable": false,
    "editable": false,
    "nbgrader": {
     "checksum": "0033f9336c5a4640eabc28bd1bad2047",
     "grade": false,
     "grade_id": "uf35",
     "locked": true,
     "schema_version": 1,
     "solution": false
    }
   },
   "source": [
    "### Part 3.5\n",
    "```python\n",
    "uf.union(2, 4)```"
   ]
  },
  {
   "cell_type": "code",
   "execution_count": null,
   "metadata": {
    "collapsed": false,
    "deletable": false,
    "editable": true,
    "nbgrader": {
     "checksum": "0e614ee22df6b1a54c88444bb7a9a1d1",
     "grade": false,
     "grade_id": "uf35_a",
     "locked": false,
     "schema_version": 1,
     "solution": true
    }
   },
   "outputs": [],
   "source": [
    "# YOUR CODE HERE\n",
    "raise NotImplementedError()"
   ]
  },
  {
   "cell_type": "code",
   "execution_count": null,
   "metadata": {
    "collapsed": false,
    "deletable": false,
    "editable": false,
    "nbgrader": {
     "checksum": "e1409ea9693b269aed2eae46cd3dbb5b",
     "grade": true,
     "grade_id": "uf35_t",
     "locked": true,
     "points": 2,
     "schema_version": 1,
     "solution": false
    }
   },
   "outputs": [],
   "source": [
    "print(test.hash(\"uf35\"+str(_)))\n",
    "assert test.hash(\"uf35\"+str(_))=='09da6051cab97144bfbf2dbc33472c64'\n",
    "print(\"Passed public test\")"
   ]
  },
  {
   "cell_type": "markdown",
   "metadata": {
    "deletable": false,
    "editable": false,
    "nbgrader": {
     "checksum": "7fe5acf8c3e6a1e3e58af5e9cd71f4c5",
     "grade": false,
     "grade_id": "uf36",
     "locked": true,
     "schema_version": 1,
     "solution": false
    }
   },
   "source": [
    "### Part 3.6\n",
    "```python\n",
    "uf.union(6, 8)```"
   ]
  },
  {
   "cell_type": "code",
   "execution_count": null,
   "metadata": {
    "collapsed": false,
    "deletable": false,
    "editable": true,
    "nbgrader": {
     "checksum": "4e58aba818ed69f33fcf1b74c8634ab4",
     "grade": false,
     "grade_id": "uf36_a",
     "locked": false,
     "schema_version": 1,
     "solution": true
    }
   },
   "outputs": [],
   "source": [
    "# YOUR CODE HERE\n",
    "raise NotImplementedError()"
   ]
  },
  {
   "cell_type": "code",
   "execution_count": null,
   "metadata": {
    "collapsed": false,
    "deletable": false,
    "editable": false,
    "nbgrader": {
     "checksum": "1234b034b8039051ed89e09a26b98808",
     "grade": true,
     "grade_id": "uf36_t",
     "locked": true,
     "points": 2,
     "schema_version": 1,
     "solution": false
    }
   },
   "outputs": [],
   "source": [
    "print(test.hash(\"uf36\"+str(_)))\n",
    "assert test.hash(\"uf36\"+str(_))=='434c9ba5d7b0dfc7ed5ca762319e3237'\n",
    "print(\"Passed public test\")"
   ]
  },
  {
   "cell_type": "markdown",
   "metadata": {
    "deletable": false,
    "editable": false,
    "nbgrader": {
     "checksum": "ae8491d4d339fa9bcaedd16aecfd1ff9",
     "grade": false,
     "grade_id": "uf37",
     "locked": true,
     "schema_version": 1,
     "solution": false
    }
   },
   "source": [
    "### Part 3.7\n",
    "```python\n",
    "uf.union(4, 8)```"
   ]
  },
  {
   "cell_type": "code",
   "execution_count": null,
   "metadata": {
    "collapsed": false,
    "deletable": false,
    "editable": true,
    "nbgrader": {
     "checksum": "6a31a195f2c3fa39c2dbd101fd6cc309",
     "grade": false,
     "grade_id": "uf37_a",
     "locked": false,
     "schema_version": 1,
     "solution": true
    }
   },
   "outputs": [],
   "source": [
    "# YOUR CODE HERE\n",
    "raise NotImplementedError()"
   ]
  },
  {
   "cell_type": "code",
   "execution_count": null,
   "metadata": {
    "collapsed": false,
    "deletable": false,
    "editable": false,
    "nbgrader": {
     "checksum": "c47479824fb025cbd0d3631f86f0ad7c",
     "grade": true,
     "grade_id": "uf37_t",
     "locked": true,
     "points": 2,
     "schema_version": 1,
     "solution": false
    }
   },
   "outputs": [],
   "source": [
    "print(test.hash(\"uf37\"+str(_)))\n",
    "assert test.hash(\"uf37\"+str(_))=='2d0bb169b2574ab31857d47f80be5f92'\n",
    "print(\"Passed public test\")"
   ]
  },
  {
   "cell_type": "markdown",
   "metadata": {
    "deletable": false,
    "editable": false,
    "nbgrader": {
     "checksum": "d915df4e0c4ad5c47f41b85762256a9a",
     "grade": false,
     "grade_id": "uf38",
     "locked": true,
     "schema_version": 1,
     "solution": false
    }
   },
   "source": [
    "### Part 3.8\n",
    "```python\n",
    "uf.find(8)```"
   ]
  },
  {
   "cell_type": "code",
   "execution_count": null,
   "metadata": {
    "collapsed": false,
    "deletable": false,
    "editable": true,
    "nbgrader": {
     "checksum": "a5ee6f2a2cdb0424c9d9f53ba5bcabb3",
     "grade": false,
     "grade_id": "uf38_a",
     "locked": false,
     "schema_version": 1,
     "solution": true
    }
   },
   "outputs": [],
   "source": [
    "# YOUR CODE HERE\n",
    "raise NotImplementedError()"
   ]
  },
  {
   "cell_type": "code",
   "execution_count": null,
   "metadata": {
    "collapsed": false,
    "deletable": false,
    "editable": false,
    "nbgrader": {
     "checksum": "3bed2e94ae738abd426e4166c50670ab",
     "grade": true,
     "grade_id": "uf38_t",
     "locked": true,
     "points": 2,
     "schema_version": 1,
     "solution": false
    }
   },
   "outputs": [],
   "source": [
    "print(test.hash(\"uf38\"+str(_)))\n",
    "assert test.hash(\"uf38\"+str(_))=='f204eab863b7381173c7da788bb9691b'\n",
    "print(\"Passed public test\")"
   ]
  },
  {
   "cell_type": "markdown",
   "metadata": {
    "deletable": false,
    "editable": false,
    "nbgrader": {
     "checksum": "98862bc3a9dde944e9c6e5cb92194ab5",
     "grade": false,
     "grade_id": "uf_challenge",
     "locked": true,
     "schema_version": 1,
     "solution": false
    }
   },
   "source": [
    "# Part 4: Challenge problem\n",
    "Generalize the previous problem to show that a single find operation can still take $\\Omega(\\log n)$ time, even though, as discussed in class, the *average* running time of an operation is much less."
   ]
  },
  {
   "cell_type": "code",
   "execution_count": null,
   "metadata": {
    "collapsed": true,
    "deletable": true,
    "editable": true
   },
   "outputs": [],
   "source": []
  },
  {
   "cell_type": "markdown",
   "metadata": {
    "deletable": true,
    "editable": true
   },
   "source": [
    "# Finishing up\n",
    "\n",
    "<br>\n",
    "\n",
    "<div class=\"alert alert-danger\">\n",
    "\n",
    "When you are done, save the notebook (`CTRL+S`) and the run the whole notebook from the beginning. You can do this by selecting `Kernel/Restart & Run All` from the menu on the top of the screen. This should print `\"All tests passed\"` for full marks.<br>\n",
    "\n",
    "Finally, when you are done with all the problems, you can run <br>\n",
    "\n",
    "`nbgrader validate *.ipynb`<br> \n",
    "\n",
    "from the command line while in the directory where this notebook is. This runs all the tests in the notebook again and it is good to run this to double check whether you actually saved your solutions and that you are in the correct directory.<br>\n",
    "If everything is as expected, run <br>\n",
    "\n",
    "`./package.sh` <br>\n",
    "\n",
    "from the command line in the same directory. This creates the file `practice-final.tar.gz`, which you will need to submit through eclass as usual. \n",
    "</div>"
   ]
  },
  {
   "cell_type": "code",
   "execution_count": null,
   "metadata": {
    "collapsed": false,
    "deletable": true,
    "editable": true
   },
   "outputs": [],
   "source": [
    "print(\"All tests passed\")"
   ]
  },
  {
   "cell_type": "markdown",
   "metadata": {
    "deletable": true,
    "editable": true
   },
   "source": [
    "---"
   ]
  },
  {
   "cell_type": "markdown",
   "metadata": {
    "deletable": true,
    "editable": true
   },
   "source": [
    "Scratch space: Add as many cells as you wish here to experiment. You can also add extra cells anywhere in the notebook, even when you are solving some problem."
   ]
  },
  {
   "cell_type": "code",
   "execution_count": null,
   "metadata": {
    "collapsed": true,
    "deletable": true,
    "editable": true
   },
   "outputs": [],
   "source": []
  }
 ],
 "metadata": {
  "kernelspec": {
   "display_name": "Python 3",
   "language": "python",
   "name": "python3"
  },
  "language_info": {
   "codemirror_mode": {
    "name": "ipython",
    "version": 3
   },
   "file_extension": ".py",
   "mimetype": "text/x-python",
   "name": "python",
   "nbconvert_exporter": "python",
   "pygments_lexer": "ipython3",
   "version": "3.6.0"
  }
 },
 "nbformat": 4,
 "nbformat_minor": 2
}
