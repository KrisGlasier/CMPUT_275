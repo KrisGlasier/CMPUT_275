{
 "cells": [
  {
   "cell_type": "code",
   "execution_count": 1,
   "metadata": {
    "collapsed": true
   },
   "outputs": [],
   "source": [
    "import gengraph"
   ]
  },
  {
   "cell_type": "code",
   "execution_count": 2,
   "metadata": {
    "collapsed": true
   },
   "outputs": [],
   "source": [
    "(V, E) = G = gengraph.gen_graph()"
   ]
  },
  {
   "cell_type": "code",
   "execution_count": 3,
   "metadata": {
    "collapsed": false
   },
   "outputs": [],
   "source": [
    "import drawgraph"
   ]
  },
  {
   "cell_type": "code",
   "execution_count": 6,
   "metadata": {
    "collapsed": false,
    "scrolled": false
   },
   "outputs": [
    {
     "name": "stdout",
     "output_type": "stream",
     "text": [
      "\n",
      "<CR> to continue\n"
     ]
    }
   ],
   "source": [
    "edge_labels = {}\n",
    "def draw():\n",
    "    drawgraph.render(\n",
    "        V,\n",
    "        E,\n",
    "        file_name=\"image.dot\",\n",
    "        style=\"graph\",\n",
    "        edge_labels=edge_labels,\n",
    "        dopng=False,\n",
    "        pause=-1)\n",
    "draw()"
   ]
  },
  {
   "cell_type": "code",
   "execution_count": 7,
   "metadata": {
    "collapsed": false
   },
   "outputs": [],
   "source": [
    "import random\n",
    "weights = {e:random.randrange(1,11) for e in E}"
   ]
  },
  {
   "cell_type": "code",
   "execution_count": 8,
   "metadata": {
    "collapsed": false
   },
   "outputs": [
    {
     "name": "stdout",
     "output_type": "stream",
     "text": [
      "{frozenset({5, 7}): 4, frozenset({3, 6}): 3, frozenset({4, 5}): 8, frozenset({3, 5}): 6, frozenset({8, 2}): 8, frozenset({9, 6}): 6, frozenset({0, 5}): 2, frozenset({9, 3}): 2, frozenset({9, 5}): 6, frozenset({2, 3}): 2, frozenset({4, 7}): 5, frozenset({0, 3}): 10, frozenset({2, 7}): 3}\n"
     ]
    }
   ],
   "source": [
    "print(weights)"
   ]
  },
  {
   "cell_type": "code",
   "execution_count": 9,
   "metadata": {
    "collapsed": false
   },
   "outputs": [],
   "source": [
    "sorted_edges = sorted(list(E),key=lambda edge: weights[edge])"
   ]
  },
  {
   "cell_type": "code",
   "execution_count": 10,
   "metadata": {
    "collapsed": true
   },
   "outputs": [],
   "source": [
    "def edge(x, y):\n",
    "    return frozenset((x, y))\n",
    "\n",
    "def adj(G, x, y):\n",
    "    \"\"\"A vertex x is adjacent to a vertex y if there is an edge from x to y.\n",
    "    \n",
    "    Parameters:\n",
    "        G: graph with (V,E) s.t.:\n",
    "            V: set of vertices\n",
    "            E: set of edges (unordered pairs of vertices)\n",
    "        \n",
    "    Returns:\n",
    "        True if x and y are adjacent in G.\n",
    "    \"\"\"\n",
    "    (V, E) = G\n",
    "    return edge(x, y) in E\n",
    "\n",
    "def neighbours(G, v):\n",
    "    \"\"\"The neighbours of v are the ones that we can get to by following one\n",
    "    edge from v.\n",
    "    \n",
    "    Parameters:\n",
    "        V: set of vertices\n",
    "        E: set of edges (unordered pairs of vertices)\n",
    "        \n",
    "    Returns:\n",
    "        See first line.\n",
    "    \"\"\"\n",
    "    (V, E) = G\n",
    "    return [y for y in V if adj(G, v, y)]"
   ]
  },
  {
   "cell_type": "code",
   "execution_count": 11,
   "metadata": {
    "collapsed": true
   },
   "outputs": [],
   "source": [
    "def cycle(G, e):\n",
    "    '''Return True if T + e contains a cycle.\n",
    "\n",
    "    Parameters:\n",
    "        G: (V,E), undericted graph with given vertex and edge-set\n",
    "        e: edge, list(e) = (u,v), u,v vertices of V (outside of E)\n",
    "        \n",
    "    Returns:\n",
    "        bool: True if T + e contains a cycle.\n",
    "    '''\n",
    "    (source,target) = list(e)\n",
    "    # We will run DFS from source in G to search for target.\n",
    "    # If DFS finds (encounters) target, DFS can be stopped with \"I found it\"\n",
    "    # otherwise it should return \"I did not find it\" \n",
    "    \n",
    "    checked = set() # set of nodes who have already been checked\n",
    "    def search(startnode):\n",
    "        '''Searches for target from startnode, recursively;\n",
    "        return True if startnode is found.'''\n",
    "        if startnode==target:\n",
    "            return True\n",
    "        checked.add(startnode)\n",
    "        for v in neighbours(G, startnode):\n",
    "            if v not in checked and search(v):\n",
    "                return True\n",
    "        return False\n",
    "    return search(source)"
   ]
  },
  {
   "cell_type": "code",
   "execution_count": 12,
   "metadata": {
    "collapsed": false
   },
   "outputs": [
    {
     "name": "stdout",
     "output_type": "stream",
     "text": [
      "\n",
      "<CR> to continue\n"
     ]
    }
   ],
   "source": [
    "edge_labels = {e:{\"text\":str(weights[e])} for e in E}\n",
    "draw()"
   ]
  },
  {
   "cell_type": "code",
   "execution_count": 13,
   "metadata": {
    "collapsed": false
   },
   "outputs": [
    {
     "name": "stdout",
     "output_type": "stream",
     "text": [
      "\n",
      "<CR> to continue\n",
      "\n",
      "<CR> to continue\n",
      "\n",
      "<CR> to continue\n",
      "\n",
      "<CR> to continue\n",
      "\n",
      "<CR> to continue\n",
      "\n",
      "<CR> to continue\n",
      "\n",
      "<CR> to continue\n",
      "\n",
      "<CR> to continue\n"
     ]
    }
   ],
   "source": [
    "# kruskal-henry algorithm\n",
    "T = set()\n",
    "for e in sorted_edges:\n",
    "    if not cycle((V,T), e):\n",
    "        T.add(e)        \n",
    "        edge_labels[e][\"color\"] = \"red\"\n",
    "        draw()"
   ]
  },
  {
   "cell_type": "code",
   "execution_count": 14,
   "metadata": {
    "collapsed": false
   },
   "outputs": [],
   "source": [
    "def kruskal(G, weights):\n",
    "    '''Computes and returns MST in G using the given weights.\n",
    "    \n",
    "    Parameters:\n",
    "        G: graph with (V,E) s.t.:\n",
    "            V: set of vertices\n",
    "            E: set of edges (unordered pairs of vertices)\n",
    "        weights: mapping from E to positive numbers.\n",
    "        \n",
    "    Returns: Subset T of E such that \n",
    "        * T spans G (V(T) = V)\n",
    "        * w(T) = sum_{e in T} w(e) is the smallest possible amongst\n",
    "            spanning subsets of E.\n",
    "    '''\n",
    "    (V, E) = G\n",
    "    T = set()\n",
    "    sorted_edges = sorted(list(E),key=lambda edge: weights[edge])\n",
    "    for e in sorted_edges:\n",
    "        if not cycle((V,T), e):\n",
    "            T.add(e)        \n",
    "    return T"
   ]
  },
  {
   "cell_type": "code",
   "execution_count": 15,
   "metadata": {
    "collapsed": false
   },
   "outputs": [],
   "source": [
    "T1 = kruskal(G,weights)"
   ]
  },
  {
   "cell_type": "code",
   "execution_count": 16,
   "metadata": {
    "collapsed": false
   },
   "outputs": [
    {
     "data": {
      "text/plain": [
       "True"
      ]
     },
     "execution_count": 16,
     "metadata": {},
     "output_type": "execute_result"
    }
   ],
   "source": [
    "T == T1"
   ]
  },
  {
   "cell_type": "code",
   "execution_count": 20,
   "metadata": {
    "collapsed": false
   },
   "outputs": [],
   "source": [
    "G = (V,E) = gengraph.gen_graph(num_vertices=2*2*100,num_edges=2*2*170)\n",
    "weights = {e:random.randrange(1,11) for e in E}\n",
    "T=kruskal(G,weights)"
   ]
  },
  {
   "cell_type": "code",
   "execution_count": 21,
   "metadata": {
    "collapsed": false
   },
   "outputs": [
    {
     "data": {
      "text/plain": [
       "678"
      ]
     },
     "execution_count": 21,
     "metadata": {},
     "output_type": "execute_result"
    }
   ],
   "source": [
    "len(E)"
   ]
  },
  {
   "cell_type": "code",
   "execution_count": 22,
   "metadata": {
    "collapsed": false
   },
   "outputs": [
    {
     "data": {
      "text/plain": [
       "400"
      ]
     },
     "execution_count": 22,
     "metadata": {},
     "output_type": "execute_result"
    }
   ],
   "source": [
    "len(V)"
   ]
  },
  {
   "cell_type": "code",
   "execution_count": 23,
   "metadata": {
    "collapsed": false
   },
   "outputs": [
    {
     "data": {
      "text/plain": [
       "383"
      ]
     },
     "execution_count": 23,
     "metadata": {},
     "output_type": "execute_result"
    }
   ],
   "source": [
    "len(T)"
   ]
  },
  {
   "cell_type": "code",
   "execution_count": 24,
   "metadata": {
    "collapsed": false
   },
   "outputs": [
    {
     "name": "stdout",
     "output_type": "stream",
     "text": [
      "\n",
      "<CR> to continue\n"
     ]
    }
   ],
   "source": [
    "draw()"
   ]
  },
  {
   "cell_type": "code",
   "execution_count": 25,
   "metadata": {
    "collapsed": true
   },
   "outputs": [],
   "source": [
    "def setgraph2adj(G):\n",
    "    '''Takes an undirected graph represented with sets\n",
    "    and transforms this into an adjacency list representation\n",
    "    of the same graph which is returned.\n",
    "    \n",
    "    Example:\n",
    "    If G = ({1,2,3}, {{1,2},{1,3}})\n",
    "    when the function retu\n",
    "    '''\n",
    "    pass\n",
    "    return"
   ]
  },
  {
   "cell_type": "code",
   "execution_count": 26,
   "metadata": {
    "collapsed": true
   },
   "outputs": [],
   "source": [
    "# modify kruskal to run using graphs that use adjacency list representation.\n",
    "# verify in profiler that this is faster.\n"
   ]
  }
 ],
 "metadata": {
  "kernelspec": {
   "display_name": "Python 3",
   "language": "python",
   "name": "python3"
  },
  "language_info": {
   "codemirror_mode": {
    "name": "ipython",
    "version": 3
   },
   "file_extension": ".py",
   "mimetype": "text/x-python",
   "name": "python",
   "nbconvert_exporter": "python",
   "pygments_lexer": "ipython3",
   "version": "3.6.0"
  }
 },
 "nbformat": 4,
 "nbformat_minor": 2
}
